{
 "cells": [
  {
   "cell_type": "code",
   "execution_count": null,
   "metadata": {},
   "outputs": [],
   "source": [
    "from fastapi import FastAPI, HTTPException\n",
    "from pydantic import BaseModel\n",
    "from fastapi.middleware.cors import CORSMiddleware\n",
    "import uvicorn\n",
    "import nltk\n",
    "app = FastAPI()\n",
    "\n",
    "app.add_middleware(\n",
    "    CORSMiddleware,\n",
    "    allow_origins=[\"*\"],\n",
    "    allow_credentials=True,\n",
    "    allow_methods=[\"*\"],\n",
    "    allow_headers=[\"*\"],\n",
    ")\n",
    "\n",
    "\n",
    "def analyze_texte(texte :str):\n",
    "    mot_cle=nltk.word_tokenize(texte)\n",
    "    return {\"sujet\":\"vide\",\"sentiments\":[],\"mot_cles\":mot_cle}\n",
    "\n",
    "def generer_reponse(texte: str):\n",
    "    return {\"reponse\":\"reponse vide\"}\n",
    "\n",
    "def formater_reponse(texte: str):\n",
    "    return {\"reponse_formater\":\"reponse vide formater\"}\n",
    "\n",
    "\n",
    "\n",
    "class AnalyseTexteInput(BaseModel):\n",
    "    texte: str\n",
    "@app.post(\"/analyse\")\n",
    "def analyse_endpoint(analyse_input: AnalyseTexteInput):\n",
    "    print(analyse_input)\n",
    "    return {\"msg\": analyse_input}\n",
    "if __name__ == \"__main__\":\n",
    "    uvicorn.run(app, host=\"127.0.0.1\", port=8000)"
   ]
  }
 ],
 "metadata": {
  "language_info": {
   "name": "python"
  }
 },
 "nbformat": 4,
 "nbformat_minor": 2
}
